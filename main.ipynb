{
 "cells": [
  {
   "cell_type": "code",
   "execution_count": 0,
   "metadata": {
    "application/vnd.databricks.v1+cell": {
     "cellMetadata": {
      "byteLimit": 2048000,
      "rowLimit": 10000
     },
     "collapsed": true,
     "inputWidgets": {},
     "nuid": "3b1ae47c-cde2-41ef-931d-d1821669c93b",
     "showTitle": false,
     "tableResultSettingsMap": {},
     "title": ""
    }
   },
   "outputs": [],
   "source": [
    "%pip install -U -qqq \\\n",
    "databricks-sdk==0.65.0 \\\n",
    "databricks-langchain==0.7.1 \\\n",
    "databricks-vectorsearch==0.57 \\\n",
    "mlflow==3.3.2 \\\n",
    "langgraph==0.3.4 \\\n",
    "langchain==0.3.27 \\\n",
    "langchain-core==0.3.75 \\\n",
    "langchain-community==0.3.29 \\\n",
    "langchain-huggingface==0.3.1 \\\n",
    "langchain-tavily==0.2.11 \\\n",
    "databricks-agents \\\n",
    "python-docx==1.2.0 openpyxl==3.1.5 pillow==12.0.0 \\\n",
    "pypdf==6.0.0 requests==2.32.5 pandas==2.2.3 numpy==1.26.4 \\\n",
    "sentence-transformers==5.1.0 \\\n",
    "\"transformers>=4.49.0,<4.51\" \"tokenizers>=0.21.2,<0.22\" \\\n",
    "torch==2.4.1+cpu --extra-index-url https://download.pytorch.org/whl/cpu \\\n",
    "google-cloud-vision==3.10.2 google-auth==2.40.3 google-genai\\\n",
    "rapidfuzz==3.14.1"
   ]
  },
  {
   "cell_type": "code",
   "execution_count": 0,
   "metadata": {
    "application/vnd.databricks.v1+cell": {
     "cellMetadata": {
      "byteLimit": 2048000,
      "rowLimit": 10000
     },
     "inputWidgets": {},
     "nuid": "8ae2cec9-2856-435a-9a11-6f7c70cab488",
     "showTitle": false,
     "tableResultSettingsMap": {},
     "title": ""
    }
   },
   "outputs": [],
   "source": [
    "dbutils.library.restartPython() "
   ]
  },
  {
   "cell_type": "code",
   "execution_count": 0,
   "metadata": {
    "application/vnd.databricks.v1+cell": {
     "cellMetadata": {
      "byteLimit": 2048000,
      "rowLimit": 10000
     },
     "collapsed": true,
     "inputWidgets": {},
     "nuid": "71e5d22d-5a96-4b61-ad2e-bf4cfa614826",
     "showTitle": true,
     "tableResultSettingsMap": {},
     "title": "データの保存場所を指定し、カタログとスキーマを作成"
    }
   },
   "outputs": [],
   "source": [
    "\n",
    "import os\n",
    "from databricks.sdk.core import DatabricksError\n",
    "from databricks.sdk import WorkspaceClient\n",
    "from databricks.sdk.service.vectorsearch import EndpointStatusState, EndpointType\n",
    "from databricks.sdk.service.serving import EndpointCoreConfigInput, EndpointStateReady\n",
    "from databricks.sdk.errors import ResourceDoesNotExist, NotFound, PermissionDenied\n",
    "\n",
    "CURRENT_FOLDER = os.getcwd()\n",
    "w = WorkspaceClient()\n",
    "\n",
    "# カタログとスキーマ\n",
    "UC_CATALOG = 'hhhd_demo_itec'\n",
    "UC_SCHEMA = 'commuting_allowance'\n",
    "\n",
    "# モデル\n",
    "UC_MODEL_NAME = f\"{UC_CATALOG}.{UC_SCHEMA}.commuting_allowance_model\"\n",
    "\n",
    "# カタログを作成\n",
    "try:\n",
    "    _ = w.catalogs.get(UC_CATALOG)\n",
    "    print(f\"PASS: UC catalog `{UC_CATALOG}` exists\")\n",
    "except NotFound as e:\n",
    "    print(f\"`{UC_CATALOG}` does not exist, trying to create...\")\n",
    "    try:\n",
    "        _ = w.catalogs.create(name=UC_CATALOG)\n",
    "    except PermissionDenied as e:\n",
    "        print(f\"FAIL: `{UC_CATALOG}` does not exist, and no permissions to create.  Please provide an existing UC Catalog.\")\n",
    "        raise ValueError(f\"Unity Catalog `{UC_CATALOG}` does not exist.\")\n",
    "        \n",
    "# スキーマを作成\n",
    "try:\n",
    "    _ = w.schemas.get(full_name=f\"{UC_CATALOG}.{UC_SCHEMA}\")\n",
    "    print(f\"PASS: UC schema `{UC_CATALOG}.{UC_SCHEMA}` exists\")\n",
    "except NotFound as e:\n",
    "    print(f\"`{UC_CATALOG}.{UC_SCHEMA}` does not exist, trying to create...\")\n",
    "    try:\n",
    "        _ = w.schemas.create(name=UC_SCHEMA, catalog_name=UC_CATALOG)\n",
    "        print(f\"PASS: UC schema `{UC_CATALOG}.{UC_SCHEMA}` created\")\n",
    "    except PermissionDenied as e:\n",
    "        print(f\"FAIL: `{UC_CATALOG}.{UC_SCHEMA}` does not exist, and no permissions to create.  Please provide an existing UC Schema.\")\n",
    "        raise ValueError(\"Unity Catalog Schema `{UC_CATALOG}.{UC_SCHEMA}` does not exist.\")"
   ]
  },
  {
   "cell_type": "code",
   "execution_count": 0,
   "metadata": {
    "application/vnd.databricks.v1+cell": {
     "cellMetadata": {
      "byteLimit": 2048000,
      "rowLimit": 10000
     },
     "collapsed": true,
     "inputWidgets": {},
     "nuid": "16c31025-e695-4448-a409-c7f76f765537",
     "showTitle": true,
     "tableResultSettingsMap": {},
     "title": "LangGraph　mlflow"
    }
   },
   "outputs": [],
   "source": [
    "import mlflow\n",
    "from mlflow.models.resources import (\n",
    "  DatabricksServingEndpoint,\n",
    "  DatabricksSQLWarehouse,\n",
    "  DatabricksFunction,\n",
    "  DatabricksGenieSpace,\n",
    "  DatabricksTable,\n",
    "  DatabricksUCConnection\n",
    ")\n",
    "\n",
    "input_example = { \n",
    "    \"messages\": [\n",
    "        {\n",
    "            \"role\": \"user\",\n",
    "            \"content\": \"AIエージェントとは？\",\n",
    "        }\n",
    "    ]\n",
    "}\n",
    "\n",
    "AGENT_NAME1 = \"CommuteWorkerAgent\"\n",
    "AGENT_NAME2 = \"CommuteSuperVisorAgent\"\n",
    "with mlflow.start_run():\n",
    "  logged_agent_info = mlflow.pyfunc.log_model(\n",
    "    name=AGENT_NAME1,\n",
    "    python_model=AGENT_NAME1,\n",
    "    input_example=input_example,\n",
    "    pip_requirements=[\n",
    "      # === Core MLflow / LangGraph / LangChain ===\n",
    "      \"mlflow==3.3.2\",\n",
    "      \"langgraph==0.3.4\",\n",
    "      \"langgraph-supervisor==0.0.4\",\n",
    "      \"databricks-langchain==0.7.1\",\n",
    "      \"langchain==0.3.27\",\n",
    "      \"langchain-core==0.3.75\",\n",
    "      \"langchain-community==0.3.29\",\n",
    "\n",
    "      # === Databricks integration ===\n",
    "      \"databricks-sdk==0.65.0\",\n",
    "      \"databricks-vectorsearch==0.57\",\n",
    "\n",
    "      # === Model / Embedding ===\n",
    "      \"sentence-transformers==5.1.0\",\n",
    "      \"transformers>=4.49.0,<4.51\",\n",
    "      \"tokenizers>=0.21.2,<0.22\",\n",
    "      \"sentencepiece>=0.2.0,<0.3\",\n",
    "\n",
    "      # === IO / Utility ===\n",
    "      \"pypdf==6.0.0\",\n",
    "      \"python-docx==1.2.0\",\n",
    "      \"openpyxl==3.1.5\",\n",
    "      \"pandas==2.2.3\",\n",
    "      \"numpy==1.26.4\",\n",
    "      \"requests==2.32.5\",\n",
    "\n",
    "      # === Google Cloud APIs ===\n",
    "      \"google-cloud-vision==3.10.2\",\n",
    "      \"google-auth==2.40.3\",\n",
    "\n",
    "      # === LangChain拡張 ===\n",
    "      \"langchain-huggingface==0.3.1\",\n",
    "      \"langchain-tavily==0.2.11\",\n",
    "\n",
    "      # === その他ユーティリティ ===\n",
    "      \"mutagen==1.47.0\",\n",
    "    ],\n",
    "  )"
   ]
  },
  {
   "cell_type": "code",
   "execution_count": 0,
   "metadata": {
    "application/vnd.databricks.v1+cell": {
     "cellMetadata": {
      "byteLimit": 2048000,
      "rowLimit": 10000
     },
     "inputWidgets": {},
     "nuid": "8282ec3d-9226-4e2f-8a12-0cc04d193bb3",
     "showTitle": true,
     "tableResultSettingsMap": {},
     "title": "テスト"
    }
   },
   "outputs": [],
   "source": [
    "import threading\n",
    "from mlflow.genai.scorers import Safety\n",
    "\n",
    "# テストデータ\n",
    "eval_data = []\n",
    "# data = {\n",
    "#   \"inputs\": {\"query\": \"通勤手当-新規(true) .xlsx こちらの通勤手当変更申請を査定してください。\"}\n",
    "# }\n",
    "# data = {\n",
    "#   \"inputs\": {\"query\": \"26072から25848までの通勤経路を朝8時45分到着で検索してください\"},\n",
    "# }\n",
    "data = {\n",
    "  \"inputs\": {\"query\": \"658-0033 兵庫県神戸市東灘区向洋町西５丁目９ の最寄り駅を教えてください。\"},\n",
    "}\n",
    "# data = {\n",
    "#   \"inputs\": {\"query\": \"阪神線の野田駅から、中津（大阪メトロ）までの6か月定期持っています。今年の10月1日購入しで、来月末に払い戻しする場合はいくらかえってくれますか？\"},\n",
    "# }\n",
    "# data = {\n",
    "#   \"inputs\": {\"query\": \"住吉(兵庫県・東海道)から大阪市海老江駅まで尼崎(東海道本線)で乗り換えのルートを教えてください。\"},\n",
    "# }\n",
    "# data = {\n",
    "#   \"inputs\": {\"query\": \"26413から29162までのルートを教えてください。\"},\n",
    "# }\n",
    "# data = {\n",
    "#   \"inputs\": {\"query\": \"申請書（PiTaPa取り消し）.xlsx こちらの通勤手当変更申請を査定してください。\"}\n",
    "# }\n",
    "# data = {\n",
    "#   \"inputs\": {\"query\": \"申請書（他候補なし_自社線含む）.xlsx こちらの通勤手当変更申請を査定してください。\"}\n",
    "# }\n",
    "# data = {\n",
    "#   \"inputs\": {\"query\": \"申請書（他候補あり_自社線含む）.xlsx こちらの通勤手当変更申請を査定してください。\"}\n",
    "# }\n",
    "# data = {\n",
    "#   \"inputs\": {\"query\": \"申請書（新経路_JR）.xlsx こちらの通勤手当変更申請を査定してください。\"}\n",
    "# }\n",
    "# data = {\n",
    "#   \"inputs\": {\"query\": \"申請書（自社線との比較＆払戻あり）.xlsx こちらの通勤手当変更申請を査定してください。\"}\n",
    "# }\n",
    "# data = {\n",
    "#   \"inputs\": {\"query\": \"野田駅から中津駅までの通勤経路を検索してください\"}\n",
    "# }\n",
    "# data = {\n",
    "#   \"inputs\": {\"query\": \"通勤手当-変更4.xlsx こちらの通勤手当変更申請を査定してください。\"}\n",
    "# }\n",
    "# data = {\n",
    "#   \"inputs\": {\"query\": \"神戸市東灘区光洋町西5丁目8 の最寄り駅を教えてください。\"}\n",
    "# }\n",
    "eval_data.append(data)\n",
    "\n",
    "# モデルロード（1回だけ）\n",
    "logged_model = mlflow.get_logged_model(logged_agent_info.model_id)\n",
    "model = mlflow.pyfunc.load_model(f\"models:/{logged_model.model_id}\")\n",
    "\n",
    "def _call_model_with_retry(messages_for_llm):\n",
    "  try:\n",
    "    return model.predict(messages_for_llm)\n",
    "  except Exception as e:\n",
    "    msg = str(e)\n",
    "    print(f\"Error: {msg}\")\n",
    "    return msg\n",
    "\n",
    "def evaluate_model(query: str, **kwargs):\n",
    "  # 余分なキーが来ても壊れないよう **kwargs を受ける\n",
    "  messages_for_llm = {\n",
    "    \"messages\": [\n",
    "      {\"role\": \"user\", \"content\": query}\n",
    "    ]\n",
    "  }\n",
    "  return _call_model_with_retry(messages_for_llm)\n",
    "\n",
    "def _evaluate_batch_single_stage(batch):\n",
    "  return mlflow.genai.evaluate(\n",
    "    data=batch,\n",
    "    predict_fn=evaluate_model,\n",
    "    scorers=[Safety()]\n",
    "  )\n",
    "\n",
    "try:\n",
    "    res = _evaluate_batch_single_stage(eval_data)\n",
    "except Exception as e:\n",
    "    msg = str(e)\n",
    "    print(f\"Error: {msg}\")"
   ]
  },
  {
   "cell_type": "code",
   "execution_count": 0,
   "metadata": {
    "application/vnd.databricks.v1+cell": {
     "cellMetadata": {
      "byteLimit": 2048000,
      "rowLimit": 10000
     },
     "collapsed": true,
     "inputWidgets": {},
     "nuid": "9dcf646c-1894-4abe-bd24-c64eaf34a29a",
     "showTitle": true,
     "tableResultSettingsMap": {},
     "title": "デプロイ"
    }
   },
   "outputs": [],
   "source": [
    "from databricks import agents\n",
    "import time\n",
    "from databricks.sdk.service.serving import EndpointStateReady, EndpointStateConfigUpdate\n",
    "from databricks.sdk import WorkspaceClient\n",
    "\n",
    "w = WorkspaceClient()\n",
    "\n",
    "mlflow.set_registry_uri(\"databricks-uc\")\n",
    "UC_MODEL_NAME = f\"{UC_CATALOG}.multi_agents.commute-worker-agent-test\"\n",
    "\n",
    "# register the model to UC\n",
    "uc_registered_model_info = mlflow.register_model(\n",
    "    model_uri=logged_agent_info.model_uri, name=UC_MODEL_NAME\n",
    ")\n",
    "\n",
    "# Deploy to enable the Review APP and create an API endpoint\n",
    "deployment_info = agents.deploy(\n",
    "    UC_MODEL_NAME,\n",
    "    uc_registered_model_info.version,\n",
    "    tags={\"endpointSource\": \"docs\"}\n",
    ")\n",
    "\n",
    "# Wait for the Review App to be ready\n",
    "print(\"\\nWaiting for endpoint to deploy.  This can take 15 - 20 minutes.\", end=\"\")\n",
    "while w.serving_endpoints.get(deployment_info.endpoint_name).state.ready == EndpointStateReady.NOT_READY or w.serving_endpoints.get(deployment_info.endpoint_name).state.config_update == EndpointStateConfigUpdate.IN_PROGRESS:\n",
    "    print(\".\", end=\"\")\n",
    "    time.sleep(30)\n",
    "\n",
    "print(f\"Endpoint {deployment_info.endpoint_name} is now ready!\")"
   ]
  }
 ],
 "metadata": {
  "application/vnd.databricks.v1+notebook": {
   "computePreferences": null,
   "dashboards": [],
   "environmentMetadata": {
    "base_environment": "",
    "environment_version": "2"
   },
   "inputWidgetPreferences": null,
   "language": "python",
   "notebookMetadata": {
    "mostRecentlyExecutedCommandWithImplicitDF": {
     "commandId": -1,
     "dataframes": [
      "_sqldf"
     ]
    },
    "pythonIndentUnit": 4
   },
   "notebookName": "main",
   "widgets": {}
  },
  "language_info": {
   "name": "python"
  }
 },
 "nbformat": 4,
 "nbformat_minor": 0
}
